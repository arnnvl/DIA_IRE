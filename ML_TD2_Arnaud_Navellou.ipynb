{
  "nbformat": 4,
  "nbformat_minor": 0,
  "metadata": {
    "colab": {
      "provenance": [],
      "authorship_tag": "ABX9TyNcqf2jK1i7TUc5iWIEvjWK",
      "include_colab_link": true
    },
    "kernelspec": {
      "name": "python3",
      "display_name": "Python 3"
    },
    "language_info": {
      "name": "python"
    }
  },
  "cells": [
    {
      "cell_type": "markdown",
      "metadata": {
        "id": "view-in-github",
        "colab_type": "text"
      },
      "source": [
        "<a href=\"https://colab.research.google.com/github/arnnvl/DIA_IRE/blob/main/ML_TD2_Arnaud_Navellou.ipynb\" target=\"_parent\"><img src=\"https://colab.research.google.com/assets/colab-badge.svg\" alt=\"Open In Colab\"/></a>"
      ]
    },
    {
      "cell_type": "code",
      "execution_count": 4,
      "metadata": {
        "id": "xzVSLPkDHW1p"
      },
      "outputs": [],
      "source": [
        "import pandas as pd\n",
        "olympics_data = pd.read_csv('olympics.csv')"
      ]
    },
    {
      "cell_type": "code",
      "source": [
        "initial_info = olympics_data.info()\n",
        "initial_head = olympics_data.head()\n",
        "initial_description = olympics_data.describe(include='all')"
      ],
      "metadata": {
        "colab": {
          "base_uri": "https://localhost:8080/"
        },
        "id": "zzilVzgCIDH-",
        "outputId": "2721468d-10a2-42d6-f5dc-cc7c4abe87e7"
      },
      "execution_count": 5,
      "outputs": [
        {
          "output_type": "stream",
          "name": "stdout",
          "text": [
            "<class 'pandas.core.frame.DataFrame'>\n",
            "RangeIndex: 148 entries, 0 to 147\n",
            "Data columns (total 16 columns):\n",
            " #   Column  Non-Null Count  Dtype \n",
            "---  ------  --------------  ----- \n",
            " 0   0       147 non-null    object\n",
            " 1   1       148 non-null    object\n",
            " 2   2       148 non-null    object\n",
            " 3   3       148 non-null    object\n",
            " 4   4       148 non-null    object\n",
            " 5   5       148 non-null    object\n",
            " 6   6       148 non-null    object\n",
            " 7   7       148 non-null    object\n",
            " 8   8       148 non-null    object\n",
            " 9   9       148 non-null    object\n",
            " 10  10      148 non-null    object\n",
            " 11  11      148 non-null    object\n",
            " 12  12      148 non-null    object\n",
            " 13  13      148 non-null    object\n",
            " 14  14      148 non-null    object\n",
            " 15  15      148 non-null    object\n",
            "dtypes: object(16)\n",
            "memory usage: 18.6+ KB\n"
          ]
        }
      ]
    },
    {
      "cell_type": "code",
      "source": [
        "olympics_data.columns = olympics_data.iloc[0]\n",
        "olympics_data = olympics_data.drop(0)"
      ],
      "metadata": {
        "id": "2Mo-aPTzIGah"
      },
      "execution_count": 6,
      "outputs": []
    },
    {
      "cell_type": "code",
      "source": [
        "olympics_data.rename(columns={olympics_data.columns[0]: 'Country',\n",
        "                              '№ Summer': 'Summer_Olympics',\n",
        "                              '01 !': 'Gold_Summer',\n",
        "                              '02 !': 'Silver_Summer',\n",
        "                              '03 !': 'Bronze_Summer',\n",
        "                              'Total': 'Total_Summer',\n",
        "                              '№ Winter': 'Winter_Olympics',\n",
        "                              '01 !': 'Gold_Winter',\n",
        "                              '02 !': 'Silver_Winter',\n",
        "                              '03 !': 'Bronze_Winter',\n",
        "                              'Total': 'Total_Winter',\n",
        "                              '№ Games': 'Total_Olympics',\n",
        "                              '01 !': 'Gold_Total',\n",
        "                              '02 !': 'Silver_Total',\n",
        "                              '03 !': 'Bronze_Total',\n",
        "                              'Combined total': 'Total_Medals'}, inplace=True)"
      ],
      "metadata": {
        "id": "zRi_dnikIKrQ"
      },
      "execution_count": 11,
      "outputs": []
    },
    {
      "cell_type": "code",
      "source": [
        "missing_values = olympics_data['Country'].isnull().sum()\n",
        "print(missing_values)"
      ],
      "metadata": {
        "colab": {
          "base_uri": "https://localhost:8080/"
        },
        "id": "F4yB5en-IP6Y",
        "outputId": "c0ba2784-7d1c-4b0a-a295-d6f2a572522f"
      },
      "execution_count": 12,
      "outputs": [
        {
          "output_type": "stream",
          "name": "stdout",
          "text": [
            "0\n"
          ]
        }
      ]
    },
    {
      "cell_type": "code",
      "source": [
        "numeric_columns = ['Summer_Olympics', 'Gold_Summer', 'Silver_Summer', 'Bronze_Summer', 'Total_Summer',\n",
        "                   'Winter_Olympics', 'Gold_Winter', 'Silver_Winter', 'Bronze_Winter', 'Total_Winter',\n",
        "                   'Total_Olympics', 'Gold_Total', 'Silver_Total', 'Bronze_Total', 'Total_Medals']"
      ],
      "metadata": {
        "id": "n-PtOPNsIUEf"
      },
      "execution_count": 14,
      "outputs": []
    },
    {
      "cell_type": "code",
      "source": [
        "print(olympics_data.head())"
      ],
      "metadata": {
        "colab": {
          "base_uri": "https://localhost:8080/"
        },
        "id": "ZrmOqDDHJccP",
        "outputId": "05274927-7b10-49bb-bd04-c127d714e4a1"
      },
      "execution_count": 17,
      "outputs": [
        {
          "output_type": "stream",
          "name": "stdout",
          "text": [
            "0                  Country Summer_Olympics Gold_Total Silver_Total  \\\n",
            "1        Afghanistan (AFG)              13          0            0   \n",
            "2            Algeria (ALG)              12          5            2   \n",
            "3          Argentina (ARG)              23         18           24   \n",
            "4            Armenia (ARM)               5          1            2   \n",
            "5  Australasia (ANZ) [ANZ]               2          3            4   \n",
            "\n",
            "0 Bronze_Total Total_Winter Winter_Olympics Gold_Total Silver_Total  \\\n",
            "1            2            2               0          0            0   \n",
            "2            8           15               3          0            0   \n",
            "3           28           70              18          0            0   \n",
            "4            9           12               6          0            0   \n",
            "5            5           12               0          0            0   \n",
            "\n",
            "0 Bronze_Total Total_Winter Total_Olympics Gold_Total Silver_Total  \\\n",
            "1            0            0             13          0            0   \n",
            "2            0            0             15          5            2   \n",
            "3            0            0             41         18           24   \n",
            "4            0            0             11          1            2   \n",
            "5            0            0              2          3            4   \n",
            "\n",
            "0 Bronze_Total Total_Medals  \n",
            "1            2            2  \n",
            "2            8           15  \n",
            "3           28           70  \n",
            "4            9           12  \n",
            "5            5           12  \n"
          ]
        }
      ]
    },
    {
      "cell_type": "code",
      "source": [
        "olympics_data.columns = ['Country', 'Summer_Olympics', 'Gold_Summer', 'Silver_Summer', 'Bronze_Summer', 'Total_Summer',\n",
        "                         'Winter_Olympics', 'Gold_Winter', 'Silver_Winter', 'Bronze_Winter', 'Total_Winter',\n",
        "                         'Total_Olympics', 'Gold_Total', 'Silver_Total', 'Bronze_Total', 'Total_Medals']"
      ],
      "metadata": {
        "id": "KPYbJ0nvJaYg"
      },
      "execution_count": 18,
      "outputs": []
    },
    {
      "cell_type": "code",
      "source": [
        "numeric_columns = ['Summer_Olympics', 'Gold_Summer', 'Silver_Summer', 'Bronze_Summer', 'Total_Summer',\n",
        "                   'Winter_Olympics', 'Gold_Winter', 'Silver_Winter', 'Bronze_Winter', 'Total_Winter',\n",
        "                   'Total_Olympics', 'Gold_Total', 'Silver_Total', 'Bronze_Total', 'Total_Medals']\n",
        "\n",
        "olympics_data[numeric_columns] = olympics_data[numeric_columns].apply(pd.to_numeric, errors='coerce')"
      ],
      "metadata": {
        "id": "pf6_tl5HKW1D"
      },
      "execution_count": 19,
      "outputs": []
    },
    {
      "cell_type": "code",
      "source": [
        "updated_info = olympics_data.info()\n",
        "updated_head = olympics_data.head()"
      ],
      "metadata": {
        "colab": {
          "base_uri": "https://localhost:8080/"
        },
        "id": "LEQA4kLkKdVI",
        "outputId": "0c00fbb7-5639-4932-b845-4f9bc0f121d8"
      },
      "execution_count": 20,
      "outputs": [
        {
          "output_type": "stream",
          "name": "stdout",
          "text": [
            "<class 'pandas.core.frame.DataFrame'>\n",
            "RangeIndex: 147 entries, 1 to 147\n",
            "Data columns (total 16 columns):\n",
            " #   Column           Non-Null Count  Dtype \n",
            "---  ------           --------------  ----- \n",
            " 0   Country          147 non-null    object\n",
            " 1   Summer_Olympics  147 non-null    int64 \n",
            " 2   Gold_Summer      147 non-null    int64 \n",
            " 3   Silver_Summer    147 non-null    int64 \n",
            " 4   Bronze_Summer    147 non-null    int64 \n",
            " 5   Total_Summer     147 non-null    int64 \n",
            " 6   Winter_Olympics  147 non-null    int64 \n",
            " 7   Gold_Winter      147 non-null    int64 \n",
            " 8   Silver_Winter    147 non-null    int64 \n",
            " 9   Bronze_Winter    147 non-null    int64 \n",
            " 10  Total_Winter     147 non-null    int64 \n",
            " 11  Total_Olympics   147 non-null    int64 \n",
            " 12  Gold_Total       147 non-null    int64 \n",
            " 13  Silver_Total     147 non-null    int64 \n",
            " 14  Bronze_Total     147 non-null    int64 \n",
            " 15  Total_Medals     147 non-null    int64 \n",
            "dtypes: int64(15), object(1)\n",
            "memory usage: 18.5+ KB\n"
          ]
        }
      ]
    },
    {
      "cell_type": "code",
      "source": [
        "new_file_path = 'cleaned_olympics.csv'\n",
        "\n",
        "olympics_data.to_csv(new_file_path, index=False)"
      ],
      "metadata": {
        "id": "OT5k5COcLNmt"
      },
      "execution_count": 21,
      "outputs": []
    }
  ]
}