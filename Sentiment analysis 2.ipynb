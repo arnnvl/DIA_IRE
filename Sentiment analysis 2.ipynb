{
 "cells": [
  {
   "cell_type": "markdown",
   "id": "13cae055",
   "metadata": {},
   "source": [
    "# <center style=\"font-size: 25pt; color: green;\">Tweets Sentiment analysis Dataset</center>"
   ]
  },
  {
   "cell_type": "code",
   "execution_count": 1,
   "id": "a7d8ca52",
   "metadata": {},
   "outputs": [],
   "source": [
    "import numpy as np\n",
    "import pandas as pd\n",
    "from sklearn.model_selection import train_test_split\n",
    "from tensorflow.keras.preprocessing.text import Tokenizer\n",
    "from tensorflow.keras.preprocessing.sequence import pad_sequences\n",
    "from tensorflow.keras.layers import Dense, Input, LSTM, Embedding, Dropout, Activation, Flatten, Bidirectional, GlobalMaxPool1D, BatchNormalization\n",
    "from tensorflow.keras.models import Model, Sequential\n",
    "from tensorflow.keras import initializers, regularizers, constraints, optimizers, layers"
   ]
  },
  {
   "cell_type": "markdown",
   "id": "ed028bfe",
   "metadata": {},
   "source": [
    "# <span style=\"font-size: 15pt; color: blue;\">  Loading and describing dataset </span>"
   ]
  },
  {
   "cell_type": "code",
   "execution_count": 2,
   "id": "74beb2af",
   "metadata": {},
   "outputs": [],
   "source": [
    "df = pd.read_csv('Tweets.csv')"
   ]
  },
  {
   "cell_type": "code",
   "execution_count": 3,
   "id": "750e6c49",
   "metadata": {},
   "outputs": [
    {
     "data": {
      "text/plain": [
       "27481"
      ]
     },
     "execution_count": 3,
     "metadata": {},
     "output_type": "execute_result"
    }
   ],
   "source": [
    "df.shape[0]"
   ]
  },
  {
   "cell_type": "code",
   "execution_count": 4,
   "id": "7bb1444b",
   "metadata": {},
   "outputs": [
    {
     "data": {
      "text/plain": [
       "3"
      ]
     },
     "execution_count": 4,
     "metadata": {},
     "output_type": "execute_result"
    }
   ],
   "source": [
    "df['sentiment'].nunique()"
   ]
  },
  {
   "cell_type": "code",
   "execution_count": 5,
   "id": "05515d5d",
   "metadata": {},
   "outputs": [
    {
     "name": "stdout",
     "output_type": "stream",
     "text": [
      "       textID                                               text  \\\n",
      "0  cb774db0d1                I`d have responded, if I were going   \n",
      "1  549e992a42      Sooo SAD I will miss you here in San Diego!!!   \n",
      "2  088c60f138                          my boss is bullying me...   \n",
      "3  9642c003ef                     what interview! leave me alone   \n",
      "4  358bd9e861   Sons of ****, why couldn`t they put them on t...   \n",
      "\n",
      "                         selected_text sentiment  \n",
      "0  I`d have responded, if I were going   neutral  \n",
      "1                             Sooo SAD  negative  \n",
      "2                          bullying me  negative  \n",
      "3                       leave me alone  negative  \n",
      "4                        Sons of ****,  negative  \n"
     ]
    }
   ],
   "source": [
    "print(df.head())"
   ]
  },
  {
   "cell_type": "code",
   "execution_count": 6,
   "id": "cbdb571b",
   "metadata": {},
   "outputs": [
    {
     "name": "stdout",
     "output_type": "stream",
     "text": [
      "The dataset has 27481 rows and 4 columns.\n"
     ]
    }
   ],
   "source": [
    "print(f'The dataset has {df.shape[0]} rows and {df.shape[1]} columns.')"
   ]
  },
  {
   "cell_type": "code",
   "execution_count": 7,
   "id": "7fc35947",
   "metadata": {},
   "outputs": [
    {
     "name": "stdout",
     "output_type": "stream",
     "text": [
      "neutral     11118\n",
      "positive     8582\n",
      "negative     7781\n",
      "Name: sentiment, dtype: int64\n"
     ]
    }
   ],
   "source": [
    "print(df['sentiment'].value_counts())"
   ]
  },
  {
   "cell_type": "code",
   "execution_count": 8,
   "id": "d454229e",
   "metadata": {},
   "outputs": [],
   "source": [
    "#df['num_words'] = df['text'].apply(lambda x: len(x.split()))\n",
    "#print(f'Average number of words per text entry: {df[\"num_words\"].mean()}')"
   ]
  },
  {
   "cell_type": "code",
   "execution_count": 9,
   "id": "e250b04c",
   "metadata": {},
   "outputs": [
    {
     "name": "stdout",
     "output_type": "stream",
     "text": [
      "Number of missing or NA values for each column:\n",
      "textID           0\n",
      "text             1\n",
      "selected_text    1\n",
      "sentiment        0\n",
      "dtype: int64\n"
     ]
    }
   ],
   "source": [
    "print(f\"Number of missing or NA values for each column:\\n{df.isnull().sum()}\")"
   ]
  },
  {
   "cell_type": "markdown",
   "id": "60a4f641",
   "metadata": {},
   "source": [
    "# <span style=\"font-size: 15pt; color: blue;\">  Building model </span>"
   ]
  },
  {
   "cell_type": "code",
   "execution_count": 10,
   "id": "fb4df23d",
   "metadata": {},
   "outputs": [],
   "source": [
    "df = df.dropna()\n",
    "df = df[['text', 'sentiment']]\n",
    "df = df[df.sentiment != \"neutral\"]\n",
    "df['b_sentiment'] = df['sentiment'].apply(lambda x: 1 if x == 'positive' else 0)"
   ]
  },
  {
   "cell_type": "code",
   "execution_count": 11,
   "id": "67e9b58b",
   "metadata": {},
   "outputs": [],
   "source": [
    "#Augmentation\n",
    "import nlpaug.augmenter.word as naw\n",
    "substitute_augmenter = naw.RandomWordAug(action=\"substitute\")\n",
    "\n",
    "augmented_texts = []\n",
    "for text in df['text']:\n",
    "    augmented_text = substitute_augmenter.augment(text)\n",
    "    augmented_texts.append(augmented_text)\n",
    "\n",
    "augmented_df = pd.DataFrame({'text': augmented_texts, 'sentiment': df['sentiment']})\n",
    "df = pd.concat([df, augmented_df], ignore_index=True)"
   ]
  },
  {
   "cell_type": "code",
   "execution_count": 12,
   "id": "0ccdd07f",
   "metadata": {},
   "outputs": [],
   "source": [
    "max_features = 5000\n",
    "tokenizer = Tokenizer(num_words=max_features)\n",
    "tokenizer.fit_on_texts(df['text'])\n",
    "list_tokenized_train = tokenizer.texts_to_sequences(df['text'])"
   ]
  },
  {
   "cell_type": "code",
   "execution_count": 13,
   "id": "4efbbac0",
   "metadata": {},
   "outputs": [],
   "source": [
    "maxlen = 200\n",
    "X_t = pad_sequences(list_tokenized_train, maxlen=maxlen)\n",
    "y = df['b_sentiment']"
   ]
  },
  {
   "cell_type": "code",
   "execution_count": 14,
   "id": "d77e96a5",
   "metadata": {},
   "outputs": [],
   "source": [
    "X_train, X_test, y_train, y_test = train_test_split(X_t, y, test_size=0.2, random_state=0)"
   ]
  },
  {
   "cell_type": "code",
   "execution_count": 15,
   "id": "5536a0f4",
   "metadata": {},
   "outputs": [],
   "source": [
    "embed_size = 128\n",
    "model = Sequential()\n",
    "model.add(Embedding(max_features, embed_size))\n",
    "model.add(Bidirectional(LSTM(32, return_sequences = True)))\n",
    "model.add(GlobalMaxPool1D())\n",
    "model.add(Dense(20, activation=\"relu\"))\n",
    "model.add(Dropout(0.05))\n",
    "model.add(Dense(1, activation=\"sigmoid\"))"
   ]
  },
  {
   "cell_type": "code",
   "execution_count": 16,
   "id": "be2906e8",
   "metadata": {},
   "outputs": [],
   "source": [
    "model.compile(loss='binary_crossentropy', optimizer='adam', metrics=['accuracy'])"
   ]
  },
  {
   "cell_type": "markdown",
   "id": "b8d91db4",
   "metadata": {},
   "source": [
    "# <span style=\"font-size: 15pt; color: blue;\">  Training </span>"
   ]
  },
  {
   "cell_type": "code",
   "execution_count": 17,
   "id": "8dba063a",
   "metadata": {
    "scrolled": true
   },
   "outputs": [
    {
     "name": "stdout",
     "output_type": "stream",
     "text": [
      "Epoch 1/5\n"
     ]
    },
    {
     "name": "stderr",
     "output_type": "stream",
     "text": [
      "C:\\Users\\arnau\\miniconda3\\envs\\py38_1\\lib\\site-packages\\keras\\engine\\data_adapter.py:1700: FutureWarning: The behavior of `series[i:j]` with an integer-dtype index is deprecated. In a future version, this will be treated as *label-based* indexing, consistent with e.g. `series[i]` lookups. To retain the old behavior, use `series.iloc[i:j]`. To get the future behavior, use `series.loc[i:j]`.\n",
      "  return t[start:end]\n"
     ]
    },
    {
     "name": "stdout",
     "output_type": "stream",
     "text": [
      "105/105 [==============================] - 29s 240ms/step - loss: 0.5621 - accuracy: 0.7087 - val_loss: 0.3818 - val_accuracy: 0.8350\n",
      "Epoch 2/5\n",
      "105/105 [==============================] - 26s 248ms/step - loss: 0.2755 - accuracy: 0.8886 - val_loss: 0.3236 - val_accuracy: 0.8613\n",
      "Epoch 3/5\n",
      "105/105 [==============================] - 26s 250ms/step - loss: 0.1901 - accuracy: 0.9286 - val_loss: 0.3228 - val_accuracy: 0.8648\n",
      "Epoch 4/5\n",
      "105/105 [==============================] - 26s 251ms/step - loss: 0.1472 - accuracy: 0.9489 - val_loss: 0.3602 - val_accuracy: 0.8613\n",
      "Epoch 5/5\n",
      "105/105 [==============================] - 26s 249ms/step - loss: 0.1136 - accuracy: 0.9645 - val_loss: 0.4203 - val_accuracy: 0.8476\n"
     ]
    },
    {
     "data": {
      "text/plain": [
       "<keras.callbacks.History at 0x1ca36901e50>"
      ]
     },
     "execution_count": 17,
     "metadata": {},
     "output_type": "execute_result"
    }
   ],
   "source": [
    "batch_size = 100\n",
    "epochs = 5\n",
    "model.fit(X_train, y_train, batch_size=batch_size, epochs=epochs, validation_split=0.2)"
   ]
  },
  {
   "cell_type": "code",
   "execution_count": 18,
   "id": "9a31b5d6",
   "metadata": {
    "scrolled": true
   },
   "outputs": [
    {
     "name": "stdout",
     "output_type": "stream",
     "text": [
      "103/103 [==============================] - 3s 34ms/step - loss: 0.3688 - accuracy: 0.8708\n",
      "Test Accuracy:  0.8707607984542847\n"
     ]
    }
   ],
   "source": [
    "loss, accuracy = model.evaluate(X_test, y_test, verbose=1)\n",
    "print(\"Test Accuracy: \", accuracy)"
   ]
  },
  {
   "cell_type": "markdown",
   "id": "8bf4764b",
   "metadata": {},
   "source": [
    "# <span style=\"font-size: 15pt; color: blue;\">  Testing </span>"
   ]
  },
  {
   "cell_type": "code",
   "execution_count": 19,
   "id": "7ba34920",
   "metadata": {},
   "outputs": [],
   "source": [
    "import string\n",
    "from nltk.corpus import stopwords\n",
    "from nltk.tokenize import word_tokenize\n",
    "\n",
    "def preprocess_text(text):\n",
    "    text = text.lower()\n",
    "    \n",
    "    text = text.translate(str.maketrans('', '', string.punctuation))\n",
    "    \n",
    "    tokens = word_tokenize(text)\n",
    "    \n",
    "    stop_words = set(stopwords.words('english'))\n",
    "    tokens = [token for token in tokens if token not in stop_words]\n",
    "    \n",
    "    text = ' '.join(tokens)\n",
    "    \n",
    "    return text"
   ]
  },
  {
   "cell_type": "code",
   "execution_count": 20,
   "id": "63e5ea7c",
   "metadata": {},
   "outputs": [],
   "source": [
    "def predict_sentiment(model, sentence):\n",
    "    sentence = preprocess_text(sentence)\n",
    "    \n",
    "    sequence = tokenizer.texts_to_sequences([sentence])\n",
    "    padded_sequence = pad_sequences(sequence, maxlen=maxlen)\n",
    "    \n",
    "    prediction = model.predict(padded_sequence)\n",
    "    \n",
    "    sentiment = 'neutral'\n",
    "    if prediction < 0.33:\n",
    "        sentiment = 'negative'\n",
    "    elif prediction > 0.66:\n",
    "        sentiment = 'positive'\n",
    "\n",
    "    return sentiment"
   ]
  },
  {
   "cell_type": "code",
   "execution_count": 21,
   "id": "87080d74",
   "metadata": {
    "scrolled": true
   },
   "outputs": [
    {
     "name": "stdout",
     "output_type": "stream",
     "text": [
      "1/1 [==============================] - 1s 973ms/step\n",
      "The sentiment of the sentence 'dvj is the best asso' is positive.\n"
     ]
    }
   ],
   "source": [
    "sentence = \"dvj is the best asso\"\n",
    "sentiment = predict_sentiment(model, sentence)\n",
    "print(f\"The sentiment of the sentence '{sentence}' is {sentiment}.\")"
   ]
  }
 ],
 "metadata": {
  "kernelspec": {
   "display_name": "Python 3 (ipykernel)",
   "language": "python",
   "name": "python3"
  },
  "language_info": {
   "codemirror_mode": {
    "name": "ipython",
    "version": 3
   },
   "file_extension": ".py",
   "mimetype": "text/x-python",
   "name": "python",
   "nbconvert_exporter": "python",
   "pygments_lexer": "ipython3",
   "version": "3.8.16"
  }
 },
 "nbformat": 4,
 "nbformat_minor": 5
}
